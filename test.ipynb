{
 "cells": [
  {
   "cell_type": "code",
   "execution_count": 2,
   "metadata": {},
   "outputs": [],
   "source": [
    "import pandas as pd \n",
    "import geopandas as gpd\n",
    "import numpy as np \n",
    "import os \n",
    "\n",
    "# 간선도로\n",
    "main_nodes = pd.read_pickle('./result/data/대전/main_nodes.pkl')\n",
    "main_edges = pd.read_pickle('./result/data/대전/main_edges.pkl')\n",
    "\n",
    "# 집산도로\n",
    "non_main_nodes = pd.read_pickle('./result/data/대전/non_main_nodes.pkl')\n",
    "non_main_edges = pd.read_pickle('./result/data/대전/non_main_edges.pkl')"
   ]
  },
  {
   "cell_type": "code",
   "execution_count": 9,
   "metadata": {},
   "outputs": [],
   "source": [
    "# 신호등 \n",
    "traffic_light = pd.read_csv(\"./extra_data/대전광역시_신호등 설치 현황_20210303.csv\", encoding='cp949')\n",
    "# 횡단보도\n",
    "crosswalk = pd.read_excel(\"./extra_data/대전광역시_횡단보도 통계 및 현황_20200922.xlsx\", sheet_name='횡단보도 현황')"
   ]
  },
  {
   "cell_type": "code",
   "execution_count": null,
   "metadata": {},
   "outputs": [],
   "source": []
  },
  {
   "cell_type": "code",
   "execution_count": null,
   "metadata": {},
   "outputs": [],
   "source": []
  },
  {
   "cell_type": "code",
   "execution_count": null,
   "metadata": {},
   "outputs": [],
   "source": []
  }
 ],
 "metadata": {
  "kernelspec": {
   "display_name": "Python 3.8.10 64-bit",
   "language": "python",
   "name": "python3"
  },
  "language_info": {
   "codemirror_mode": {
    "name": "ipython",
    "version": 3
   },
   "file_extension": ".py",
   "mimetype": "text/x-python",
   "name": "python",
   "nbconvert_exporter": "python",
   "pygments_lexer": "ipython3",
   "version": "3.8.10"
  },
  "orig_nbformat": 4,
  "vscode": {
   "interpreter": {
    "hash": "916dbcbb3f70747c44a77c7bcd40155683ae19c65e1c03b4aa3499c5328201f1"
   }
  }
 },
 "nbformat": 4,
 "nbformat_minor": 2
}
